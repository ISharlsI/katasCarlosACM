{
 "cells": [
  {
   "cell_type": "markdown",
   "metadata": {},
   "source": [
    "<h2>Kata Modulo 9</h2>"
   ]
  },
  {
   "cell_type": "markdown",
   "metadata": {},
   "source": [
    "Ejercicio 1"
   ]
  },
  {
   "cell_type": "code",
   "execution_count": 31,
   "metadata": {},
   "outputs": [],
   "source": [
    "def calculo(tank1, tank2, tank3):\n",
    "    prom = (tank1 + tank2 + tank3) / 3\n",
    "    return f\"\"\"Fuel Report:\n",
    "    Promedio: {prom}%\n",
    "    Tanque1: {tank1}%\n",
    "    Tanque2: {tank2}%\n",
    "    Tanque3: {tank3}% \n",
    "    \"\"\""
   ]
  },
  {
   "cell_type": "code",
   "execution_count": 32,
   "metadata": {},
   "outputs": [
    {
     "name": "stdout",
     "output_type": "stream",
     "text": [
      "Fuel Report:\n",
      "    Promedio: 78.33333333333333%\n",
      "    Tanque1: 80%\n",
      "    Tanque2: 70%\n",
      "    Tanque3: 85% \n",
      "    \n"
     ]
    }
   ],
   "source": [
    "print(calculo(80, 70, 85))"
   ]
  },
  {
   "cell_type": "code",
   "execution_count": 33,
   "metadata": {},
   "outputs": [],
   "source": [
    "def promedio(val):\n",
    "    total = sum(val)\n",
    "    numit = len(val)\n",
    "    return total / numit\n"
   ]
  },
  {
   "cell_type": "code",
   "execution_count": 34,
   "metadata": {},
   "outputs": [
    {
     "name": "stdout",
     "output_type": "stream",
     "text": [
      "Fuel Report:\n",
      "    promedio: 78.0%\n",
      "    Tanque1: 88%\n",
      "    Tanque2: 76%\n",
      "    Tanque3: 70% \n",
      "    \n"
     ]
    }
   ],
   "source": [
    "\n",
    "def calculoModificado(tank1, tank2, tank3):\n",
    "    return f\"\"\"Fuel Report:\n",
    "    promedio: {promedio([tank1, tank2, tank3])}%\n",
    "    Tanque1: {tank1}%\n",
    "    Tanque2: {tank2}%\n",
    "    Tanque3: {tank3}% \n",
    "    \"\"\"\n",
    "print(calculoModificado(88, 76, 70))"
   ]
  },
  {
   "cell_type": "code",
   "execution_count": 35,
   "metadata": {},
   "outputs": [
    {
     "name": "stdout",
     "output_type": "stream",
     "text": [
      "\n",
      "    Mission to Moon\n",
      "    Total travel time: 65 minutes\n",
      "    Total fuel left: 500000 gallons\n",
      "    \n"
     ]
    }
   ],
   "source": [
    "def mission_report(pre_launch_time, flight_time, destination, external_tank, main_tank):\n",
    "    return f\"\"\"\n",
    "    Mission to {destination}\n",
    "    Total travel time: {pre_launch_time + flight_time} minutes\n",
    "    Total fuel left: {external_tank + main_tank} gallons\n",
    "    \"\"\"\n",
    "\n",
    "print(mission_report(14, 51, \"Moon\", 200000, 300000))"
   ]
  },
  {
   "cell_type": "markdown",
   "metadata": {},
   "source": [
    "Ejercicio 2"
   ]
  },
  {
   "cell_type": "code",
   "execution_count": 41,
   "metadata": {},
   "outputs": [
    {
     "name": "stdout",
     "output_type": "stream",
     "text": [
      "\n",
      "    Mision a Luna\n",
      "    Tiempo total del viaje: 75 minutos\n",
      "    Combustible restante: 500000\n",
      "    Tank2 = 300000 galones restantes \n",
      "Tank1 = 200000 galones restantes \n",
      "\n"
     ]
    }
   ],
   "source": [
    "def reporteMision(dest, *minutes, **fuel_reservoirs):\n",
    "    main_report = f\"\"\"\n",
    "    Mision a {dest}\n",
    "    Tiempo total del viaje: {sum(minutes)} minutos\n",
    "    Combustible restante: {sum(fuel_reservoirs.values())}\n",
    "    \"\"\"\n",
    "    for nameTank, com in fuel_reservoirs.items():\n",
    "        main_report += f\"{nameTank} = {com} galones restantes \\n\"\n",
    "    return main_report\n",
    "\n",
    "print(reporteMision(\"Luna\", 8, 12, 55, Tank2=300000, Tank1=200000))"
   ]
  }
 ],
 "metadata": {
  "interpreter": {
   "hash": "c3d50bb36eea1a12ea3b4a65bb70a9b9b55bfeb1b113fe8514ba7dc989e79498"
  },
  "kernelspec": {
   "display_name": "Python 3.10.2 64-bit",
   "language": "python",
   "name": "python3"
  },
  "language_info": {
   "codemirror_mode": {
    "name": "ipython",
    "version": 3
   },
   "file_extension": ".py",
   "mimetype": "text/x-python",
   "name": "python",
   "nbconvert_exporter": "python",
   "pygments_lexer": "ipython3",
   "version": "3.10.2"
  },
  "orig_nbformat": 4
 },
 "nbformat": 4,
 "nbformat_minor": 2
}
