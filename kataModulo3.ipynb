{
 "cells": [
  {
   "cell_type": "markdown",
   "metadata": {},
   "source": [
    "<h2>Kata Modulo 3 </h2>"
   ]
  },
  {
   "cell_type": "code",
   "execution_count": null,
   "metadata": {},
   "outputs": [],
   "source": [
    "velocidadAsteroide = 49\n",
    "if velocidadAsteroide > 25:\n",
    "    print(\"Advertencia, velocidad critica del asteroide. Velocidad actual: \" + str(velocidadAsteroide) + \" km/s\")\n",
    "else:\n",
    "    print(\"Velocidad estable\")    "
   ]
  },
  {
   "cell_type": "code",
   "execution_count": null,
   "metadata": {},
   "outputs": [],
   "source": [
    "velocidadAsteroide = 19\n",
    "if velocidadAsteroide >= 20:\n",
    "    print(\"Se acerca un asteroide a mas de 20km/s, busque un asteroide en el cielo\")\n",
    "else:\n",
    "    print(\"No hay asteroides acercandose\")"
   ]
  },
  {
   "cell_type": "code",
   "execution_count": null,
   "metadata": {},
   "outputs": [],
   "source": [
    "velocidadAsteroide = 25\n",
    "tamanoAsteroide = 40\n",
    "\n",
    "if tamanoAsteroide >= 25 and tamanoAsteroide <= 1000:\n",
    "    print(\"Cuidado, se acerca un meteorito muy grande\")\n",
    "elif velocidadAsteroide > 25:\n",
    "    print(\"Cuidado, se acerca un meteorito a una velocidad considerable\")\n",
    "elif velocidadAsteroide >= 20:\n",
    "    print(\"Se acerca un meteorito que puede producir un rayo de luz\")\n",
    "else:\n",
    "    print(\"Nada en el cielo\")"
   ]
  }
 ],
 "metadata": {
  "interpreter": {
   "hash": "c3d50bb36eea1a12ea3b4a65bb70a9b9b55bfeb1b113fe8514ba7dc989e79498"
  },
  "kernelspec": {
   "display_name": "Python 3.10.2 64-bit",
   "language": "python",
   "name": "python3"
  },
  "language_info": {
   "codemirror_mode": {
    "name": "ipython",
    "version": 3
   },
   "file_extension": ".py",
   "mimetype": "text/x-python",
   "name": "python",
   "nbconvert_exporter": "python",
   "pygments_lexer": "ipython3",
   "version": "3.10.2"
  },
  "orig_nbformat": 4
 },
 "nbformat": 4,
 "nbformat_minor": 2
}
