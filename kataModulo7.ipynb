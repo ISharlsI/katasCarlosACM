{
 "cells": [
  {
   "cell_type": "markdown",
   "metadata": {},
   "source": [
    "<h2>Kata Modulo 7 </h2>"
   ]
  },
  {
   "cell_type": "code",
   "execution_count": null,
   "metadata": {},
   "outputs": [],
   "source": [
    "newPlanet = ''\n",
    "planets = []\n",
    "\n",
    "while newPlanet.lower() != 'done':\n",
    "    if newPlanet:\n",
    "        planets.append(newPlanet)\n",
    "    newPlanet = input(\"Ingresa planetas, cuando estes listo ingresa la palabra done para terminar\")\n",
    "\n",
    "for n in planets:\n",
    "    print(n)    \n"
   ]
  }
 ],
 "metadata": {
  "interpreter": {
   "hash": "c3d50bb36eea1a12ea3b4a65bb70a9b9b55bfeb1b113fe8514ba7dc989e79498"
  },
  "kernelspec": {
   "display_name": "Python 3.10.2 64-bit",
   "language": "python",
   "name": "python3"
  },
  "language_info": {
   "codemirror_mode": {
    "name": "ipython",
    "version": 3
   },
   "file_extension": ".py",
   "mimetype": "text/x-python",
   "name": "python",
   "nbconvert_exporter": "python",
   "pygments_lexer": "ipython3",
   "version": "3.10.2"
  },
  "orig_nbformat": 4
 },
 "nbformat": 4,
 "nbformat_minor": 2
}
