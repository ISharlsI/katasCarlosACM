{
 "cells": [
  {
   "cell_type": "code",
   "execution_count": 2,
   "metadata": {},
   "outputs": [
    {
     "name": "stdout",
     "output_type": "stream",
     "text": [
      "628949330\n",
      "390577533.93\n"
     ]
    }
   ],
   "source": [
    "disTierra = 149597870 #km\n",
    "disJupiter = 778547200\n",
    "\n",
    "distancia = disTierra - disJupiter\n",
    "print(abs(distancia))\n",
    "distanciaMillas = distancia * 0.621\n",
    "print(abs(distanciaMillas))"
   ]
  },
  {
   "cell_type": "code",
   "execution_count": 3,
   "metadata": {},
   "outputs": [
    {
     "name": "stdout",
     "output_type": "stream",
     "text": [
      "9292200.0\n"
     ]
    }
   ],
   "source": [
    "dis1 = input(\"Introduzca la distancia del primer planeta\")\n",
    "dis2 = input(\"Introduzca la distancia del segundo planeta\")\n",
    "\n",
    "distanciaDelSol = abs(int(dis1) - int(dis2)*0.621)\n",
    "print(distanciaDelSol)\n",
    "\n"
   ]
  }
 ],
 "metadata": {
  "interpreter": {
   "hash": "c3d50bb36eea1a12ea3b4a65bb70a9b9b55bfeb1b113fe8514ba7dc989e79498"
  },
  "kernelspec": {
   "display_name": "Python 3.10.2 64-bit",
   "language": "python",
   "name": "python3"
  },
  "language_info": {
   "codemirror_mode": {
    "name": "ipython",
    "version": 3
   },
   "file_extension": ".py",
   "mimetype": "text/x-python",
   "name": "python",
   "nbconvert_exporter": "python",
   "pygments_lexer": "ipython3",
   "version": "3.10.2"
  },
  "orig_nbformat": 4
 },
 "nbformat": 4,
 "nbformat_minor": 2
}
